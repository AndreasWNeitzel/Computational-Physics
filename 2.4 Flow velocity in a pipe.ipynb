{
 "cells": [
  {
   "cell_type": "markdown",
   "metadata": {},
   "source": [
    "A factory drains the water ($\\rho = 10^3 kg m^{-3}$, cinematic viscosity $\\nu = 10^{-6} m^2 s^{-1}$) from a lake in a mountain with a height difference of $50 m$. The steel tube has length $L = 400m$ and a diameter of $D= 400mm$. Throughout the tube there are five curves ($K_{curve} = 0.1$), six valves ($K_V = 0.08$) and an entry loss ($K_{ent} = 0.5$). Knowing that the equation of energy is given by:\n",
    "\n",
    "\\begin{equation}\n",
    "p_1 + \\frac{1}{2} \\rho v_1^2 + \\rho g h_1 =\n",
    "p_2 + \\frac{1}{2} \\rho v_2^2 + \\rho g h_\" + \\rho g h_f\n",
    "\\end{equation}\n",
    "\n",
    "where we can consider the current line from the surface of the lake to the surface of the tank in the factory ($p_1 = p_2 = P_{atm}$ and $v_1 = v_2 = 0$) and $h_f$, the loss in the tube, constant,\n",
    "\n",
    "\\begin{equation}\n",
    "h_f = \\frac{v^2}{2g} \\left( \\sum_{i \\in \\text{local}} K_i + f \\frac{L}{D} \\right)\n",
    "\\end{equation}\n",
    "\n",
    "whic his obtained by local contributions and by the friction throughout the tube. The Darcy friction factor, $f$, is obtained for turbulent flow by the Colebrook law,\n",
    "\n",
    "\\begin{equation}\n",
    "\\frac{1}{\\sqrt{f}} = -2.0 \\log_{10} \\left( \\frac{\\epsilon / D}{3.7} + \\frac{2.51}{Re \\sqrt{f}} \\right)\n",
    "\\end{equation}\n",
    "\n",
    "with rugosity $\\epsilon = 0.045mm$ in commercial steel and the Reynolds number is given by $Re = v D / \\nu$. In these conditions determine the velocity of the water inside the tube."
   ]
  },
  {
   "cell_type": "markdown",
   "metadata": {},
   "source": [
    "---\n",
    "I come to the following relations:\n",
    "\n",
    "Through the energy equation I get:\n",
    "\\begin{equation}\n",
    "h_f = 50 m\n",
    "\\end{equation}\n",
    "\n",
    "Rearranging the equation for $h_f$ gives me:\n",
    "\\begin{equation}\n",
    "v = \\sqrt{\\frac{2 g h_f}{\\sum_{i} K_i + f \\frac{L}{D}}}\n",
    "\\end{equation}\n",
    "\n",
    "Substituting $Re = v D / \\nu$ and subsequently substituting $v$ by the previous expression gives me a transcendental equation for $f$:\n",
    "\\begin{equation}\n",
    "0 =\n",
    "\\frac{1}{\\sqrt{f}} + \n",
    "2.0 \\log_{10}\n",
    "\\left(\n",
    "\\frac{\\epsilon / D}{3.7} +\n",
    "\\frac{2.57 \\nu}{\\sqrt{\\frac{2 g h_f}{\\sum_{i} K_i + f \\frac{L}{D}}} D \\sqrt{f}}\n",
    "\\right)\n",
    "\\end{equation}\n",
    "\n",
    "I make use of the approximation methods for transcendental equations I developed earlier to find the value of $f$ and subsequently compute the velocity, $v$.\n",
    "\n",
    "Note that the error for $f_{root}$ is below the numerical limit of the program (effectively 0). Knowing Darcy's friction factor it is possible to compute the flow velocity, $v$."
   ]
  },
  {
   "cell_type": "code",
   "execution_count": 1,
   "metadata": {},
   "outputs": [],
   "source": [
    "import numpy as np\n",
    "import matplotlib.pyplot as plt\n",
    "import approx"
   ]
  },
  {
   "cell_type": "code",
   "execution_count": 2,
   "metadata": {},
   "outputs": [],
   "source": [
    "K_curve = 0.1\n",
    "K_V = 0.08\n",
    "K_ent = 0.5\n",
    "\n",
    "epsilon = 4.5e-5\n",
    "D = 0.4\n",
    "hf = 50\n",
    "g = 9.8\n",
    "K_total = 5*K_curve + 6*K_V + K_ent\n",
    "L = 400\n",
    "nu = 1e-6\n",
    "\n",
    "args = [\n",
    "        epsilon,\n",
    "        D,\n",
    "        hf,\n",
    "        g,\n",
    "        K_total,\n",
    "        L,\n",
    "        nu\n",
    "        ]\n",
    "\n",
    "def Darcy(args):\n",
    "    epsilon, D, hf, g, K_total, L, nu = args\n",
    "    \n",
    "    f = np.linspace(0.001, 0.03, 100)\n",
    "    y = lambda f: 1/np.sqrt(f) + 2.0 * np.log10(epsilon / D / 3.7 + 2.51 / (np.sqrt((hf * 2*g) / (K_total + f * L / D)) * D / nu * np.sqrt(f)))\n",
    "\n",
    "    '''Estimating roots'''\n",
    "\n",
    "    estimated_root = 0\n",
    "\n",
    "    for i in range(len(f)-1):\n",
    "        if y(f[i]) * y(f[i+1]) < 0:\n",
    "            estimated_root = (f[i] + f[i+1])/2\n",
    "            break\n",
    "\n",
    "\n",
    "    '''Approximating root with Bolzano'''\n",
    "\n",
    "    iterations = 100\n",
    "    stop_condition = 1e-16\n",
    "\n",
    "    df = f[1] - f[0]\n",
    "\n",
    "    first_point = max(0, estimated_root - df)\n",
    "    second_point = estimated_root + df\n",
    "    point, error = approx.bolzano(y, estimated_root, first_point, second_point, iterations, stop_condition)[0:2]\n",
    "    f_root = point[-1]\n",
    "    error_y = abs(y(f_root))\n",
    "    \n",
    "    return f_root, error_y\n",
    "\n",
    "def velocity(args):\n",
    "    D, hf, g, K_total, L, f = args\n",
    "    return np.sqrt(2*g*hf / (K_total + f * L / D))"
   ]
  },
  {
   "cell_type": "code",
   "execution_count": 3,
   "metadata": {},
   "outputs": [],
   "source": [
    "f = np.linspace(0.001, 0.03, 100)\n",
    "y = lambda f: 1/np.sqrt(f) + 2.0 * np.log10(epsilon / D / 3.7 + 2.51 / (np.sqrt((hf * 2*g) / (K_total + f * L / D)) * D / nu * np.sqrt(f)))"
   ]
  },
  {
   "cell_type": "code",
   "execution_count": 4,
   "metadata": {},
   "outputs": [
    {
     "data": {
      "image/png": "[encoded data removed]",
      "text/plain": [
       "<Figure size 576x288 with 1 Axes>"
      ]
     },
     "metadata": {
      "needs_background": "light"
     },
     "output_type": "display_data"
    }
   ],
   "source": [
    "f_root, error = Darcy(args)\n",
    "\n",
    "width, height = plt.figaspect(.5)\n",
    "plt.figure(figsize=(width, height))\n",
    "plt.title('Darcy friction factor')\n",
    "plt.plot(f, y(f), label='Function $y(f)$')\n",
    "plt.scatter(f_root, y(f_root), label='$f_{root}$ = ' + repr(f_root) + '$\\pm$' + repr(error))\n",
    "plt.xlabel('f')\n",
    "plt.ylabel('y(f)')\n",
    "plt.legend(loc='best')\n",
    "plt.grid(True)\n",
    "plt.show()"
   ]
  },
  {
   "cell_type": "code",
   "execution_count": 5,
   "metadata": {},
   "outputs": [
    {
     "name": "stdout",
     "output_type": "stream",
     "text": [
      "The flow velocity in the tube is 8.30294903615073 meters per second.\n"
     ]
    }
   ],
   "source": [
    "args2 = [\n",
    "        D,\n",
    "        hf,\n",
    "        g,\n",
    "        K_total,\n",
    "        L,\n",
    "        f_root\n",
    "        ]\n",
    "\n",
    "v = velocity(args2)\n",
    "\n",
    "print('The flow velocity in the tube is', v, 'meters per second.')"
   ]
  },
  {
   "cell_type": "code",
   "execution_count": null,
   "metadata": {},
   "outputs": [],
   "source": []
  }
 ],
 "metadata": {
  "kernelspec": {
   "display_name": "Python 3",
   "language": "python",
   "name": "python3"
  },
  "language_info": {
   "codemirror_mode": {
    "name": "ipython",
    "version": 3
   },
   "file_extension": ".py",
   "mimetype": "text/x-python",
   "name": "python",
   "nbconvert_exporter": "python",
   "pygments_lexer": "ipython3",
   "version": "3.7.0"
  }
 },
 "nbformat": 4,
 "nbformat_minor": 4
}
